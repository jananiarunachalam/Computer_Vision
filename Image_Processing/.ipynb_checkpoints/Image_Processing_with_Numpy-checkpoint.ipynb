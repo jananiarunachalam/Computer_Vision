{
 "cells": [
  {
   "cell_type": "markdown",
   "metadata": {},
   "source": [
    "<br>\n",
    "\n",
    "This is an atempt to see if we can solve some of the common image processing problems by just using the Numpy library.\n",
    "\n",
    "Some common image processing that can be done on an image are:\n",
    "\n",
    "1. Grayscaling\n",
    "2. Cropping\n",
    "3. Computing pixel ranges\n",
    "4. Maximizing the contrast\n",
    "5. Flipping\n",
    "6. Normalizing\n",
    "7. Resizing\n",
    "\n",
    "<br>"
   ]
  },
  {
   "cell_type": "code",
   "execution_count": 30,
   "metadata": {},
   "outputs": [],
   "source": [
    "# ----- Importing the numpy library ----- \n",
    "\n",
    "\n",
    "import numpy as np"
   ]
  },
  {
   "cell_type": "code",
   "execution_count": 21,
   "metadata": {},
   "outputs": [],
   "source": [
    "# ----- 1. Function that takes in any image and\n",
    "# returns a grayscale one ----- \n",
    "\n",
    "\n",
    "def convert_to_grayscale(im):\n",
    "    '''\n",
    "    Converts an (nxmx3) color image im into a (nxm) grayscale image.\n",
    "    '''\n",
    "    \n",
    "    grayscale_image = np.dot(im[..., :3], [0.299, 0.587, 0.144])\n",
    "    return grayscale_image\n",
    "\n",
    "\n",
    "\n",
    "# Reference: https://stackoverflow.com/questions/12201577/how-can-i-convert-an-rgb-image-into-grayscale-in-python"
   ]
  },
  {
   "cell_type": "code",
   "execution_count": 22,
   "metadata": {},
   "outputs": [],
   "source": [
    "# ----- 2. Function that takes in any image &\n",
    "# the crop bounds and return a cropped image ----- \n",
    "\n",
    "\n",
    "def crop_image(im, crop_bounds):\n",
    "    '''\n",
    "    Returns a cropped image, im_cropped. \n",
    "    im = numpy array representing a color or grayscale image.\n",
    "    crops_bounds = 4 element long list containing the top, bottom,\n",
    "    left, and right crops respectively. \n",
    "\n",
    "    e.g. if crop_bounds = [50, 60, 70, 80], the returned image\n",
    "    should have 50 pixels removed from the top, \n",
    "    60 pixels removed from the bottom, and so on. \n",
    "    '''\n",
    "    \n",
    "    im_cropped = im[crop_bounds[1]:crop_bounds[3]+crop_bounds[0],crop_bounds[0]:crop_bounds[2]+crop_bounds[1],:]\n",
    "    # Left-Up-Right-Bottom im_cropped = im[crop_bounds[1]:-crop_bounds[3], crop_bounds[0]:-crop_bounds[2], :]\n",
    "    # Top-Down-Left-Right im_cropped = im[crop_bounds[0]:-crop_bounds[1], crop_bounds[2]:-crop_bounds[3], :]\n",
    "    return im_cropped"
   ]
  },
  {
   "cell_type": "code",
   "execution_count": 26,
   "metadata": {},
   "outputs": [],
   "source": [
    "# ----- 3. Function that takes in any image &\n",
    "# returns the range difference in all the 3 color channels ----- \n",
    "\n",
    "\n",
    "def compute_range(im):\n",
    "    '''\n",
    "    Returns the difference between the largest and smallest pixel values.\n",
    "    '''\n",
    "    \n",
    "    image_range = []\n",
    "    image_range.append(im[:, :, 0].max() - im[:, :, 0].min())\n",
    "    image_range.append(im[:, :, 1].max() - im[:, :, 1].min())\n",
    "    image_range.append(im[:, :, 2].max() - im[:, :, 2].min())\n",
    "    return image_range"
   ]
  },
  {
   "cell_type": "code",
   "execution_count": 27,
   "metadata": {},
   "outputs": [],
   "source": [
    "# ----- 4. Function that takes in any image &\n",
    "# a target range to return a maximum contrast image  ----- \n",
    "\n",
    "\n",
    "def maximize_contrast(im, target_range = [0, 255]):\n",
    "    '''\n",
    "    Return an image over same size as im that has been \"contrast maximized\"\n",
    "    by rescaling the input image so that the smallest pixel value is mapped to\n",
    "    target_range[0], and the largest pixel value is mapped to target_range[1]. \n",
    "    '''\n",
    "\n",
    "    \n",
    "    image_adjusted = ((im - im.min()) * ((target_range[1] - target_range[0]) // (im.max() - im.min()))) + target_range[0]\n",
    "    # image_adjusted = ((im - im.min()) // (im.max() - im.min())) * (target_range[1] - target_range[0])\n",
    "    return image_adjusted\n",
    "\n",
    "\n",
    "# Reference: https://homepages.inf.ed.ac.uk/rbf/HIPR2/stretch.htm"
   ]
  },
  {
   "cell_type": "code",
   "execution_count": 28,
   "metadata": {},
   "outputs": [],
   "source": [
    "# ----- 5. Function that takes in any image &\n",
    "# the direction & returns a flipped image ----- \n",
    "\n",
    "\n",
    "def flip_image(im, direction = 'vertical'):\n",
    "    '''\n",
    "    Flip image along direction indicated by the direction flag. \n",
    "    direction = vertical or horizontal.\n",
    "    '''\n",
    "    \n",
    "    if direction == 'vertical':\n",
    "        flipped_image = np.flipud(im)\n",
    "    else:\n",
    "        flipped_image = np.fliplr(im)\n",
    "    return flipped_image"
   ]
  },
  {
   "cell_type": "code",
   "execution_count": 29,
   "metadata": {},
   "outputs": [],
   "source": [
    "# ----- 6. Function that takes in any image & the threshold given and\n",
    "# returns count of pixel values above threshold ----- \n",
    "\n",
    "\n",
    "def count_pixels_above_threshold(im, threshold):\n",
    "    '''\n",
    "    Return the number of pixels with values above threshold.\n",
    "    '''\n",
    "    \n",
    "    pixels_above_threshold = np.count_nonzero(im[im>threshold])\n",
    "    return pixels_above_threshold"
   ]
  },
  {
   "cell_type": "code",
   "execution_count": 7,
   "metadata": {},
   "outputs": [],
   "source": [
    "# ----- 6. Function that takes in any image & the threshold given and\n",
    "# returns count of pixel values above threshold ----- \n",
    "\n",
    "\n",
    "def normalize(im):\n",
    "    '''\n",
    "    Rescale all pixels value to make the mean pixel value equal zero\n",
    "    and the standard deviation equal to one. \n",
    "    if im is of type uint8, convert to float.\n",
    "    '''\n",
    "\n",
    "    normalized_image = im.astype('float64')\n",
    "    normalized_image = ((normalized_image - normalized_image.min())) / (normalized_image.max() - normalized_image.min())\n",
    "    return normalized_image"
   ]
  },
  {
   "cell_type": "markdown",
   "metadata": {},
   "source": [
    "<br>\n",
    "\n",
    "Now that we've written all our function, it's time to see if they pass the test.\n",
    "An image is stored in the folder of this .ipynb file which will be downl\n",
    "\n",
    "<br>"
   ]
  },
  {
   "cell_type": "code",
   "execution_count": 2,
   "metadata": {},
   "outputs": [],
   "source": [
    "# ----- Importing matplotlib to see if our functions\n",
    "# perform what is required of them -----\n",
    "\n",
    "\n",
    "from matplotlib.pyplot import *\n",
    "\n",
    "\n",
    "# ----- iPython magic function to make plots appear inline in the notebook -----\n",
    "\n",
    "%matplotlib inline"
   ]
  },
  {
   "cell_type": "code",
   "execution_count": 3,
   "metadata": {},
   "outputs": [],
   "source": [
    " im = imread('messi.jpg')"
   ]
  },
  {
   "cell_type": "code",
   "execution_count": null,
   "metadata": {},
   "outputs": [],
   "source": []
  }
 ],
 "metadata": {
  "kernelspec": {
   "display_name": "Python 3",
   "language": "python",
   "name": "python3"
  },
  "language_info": {
   "codemirror_mode": {
    "name": "ipython",
    "version": 3
   },
   "file_extension": ".py",
   "mimetype": "text/x-python",
   "name": "python",
   "nbconvert_exporter": "python",
   "pygments_lexer": "ipython3",
   "version": "3.7.3"
  },
  "varInspector": {
   "cols": {
    "lenName": 16,
    "lenType": 16,
    "lenVar": 40
   },
   "kernels_config": {
    "python": {
     "delete_cmd_postfix": "",
     "delete_cmd_prefix": "del ",
     "library": "var_list.py",
     "varRefreshCmd": "print(var_dic_list())"
    },
    "r": {
     "delete_cmd_postfix": ") ",
     "delete_cmd_prefix": "rm(",
     "library": "var_list.r",
     "varRefreshCmd": "cat(var_dic_list()) "
    }
   },
   "oldHeight": 122,
   "position": {
    "height": "40px",
    "left": "1170px",
    "right": "20px",
    "top": "120px",
    "width": "250px"
   },
   "types_to_exclude": [
    "module",
    "function",
    "builtin_function_or_method",
    "instance",
    "_Feature"
   ],
   "varInspector_section_display": "none",
   "window_display": true
  }
 },
 "nbformat": 4,
 "nbformat_minor": 2
}
