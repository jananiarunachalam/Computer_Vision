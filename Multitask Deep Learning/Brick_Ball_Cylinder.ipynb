{
  "nbformat": 4,
  "nbformat_minor": 0,
  "metadata": {
    "colab": {
      "name": "Brick_Ball_Cylinder",
      "provenance": [],
      "collapsed_sections": []
    },
    "kernelspec": {
      "name": "python3",
      "display_name": "Python 3"
    },
    "accelerator": "GPU"
  },
  "cells": [
    {
      "cell_type": "code",
      "metadata": {
        "id": "JQzVTbUMEsSU",
        "colab_type": "code",
        "outputId": "43ab72ea-501b-4743-81de-a7b487c1618e",
        "colab": {
          "base_uri": "https://localhost:8080/",
          "height": 54
        }
      },
      "source": [
        "from google.colab import drive\n",
        "drive.mount('/content/drive')"
      ],
      "execution_count": 0,
      "outputs": [
        {
          "output_type": "stream",
          "text": [
            "Drive already mounted at /content/drive; to attempt to forcibly remount, call drive.mount(\"/content/drive\", force_remount=True).\n"
          ],
          "name": "stdout"
        }
      ]
    },
    {
      "cell_type": "code",
      "metadata": {
        "id": "l_SYHburEQo9",
        "colab_type": "code",
        "outputId": "132d3c3a-dacb-4d79-e901-7d643e2f3c5d",
        "colab": {
          "base_uri": "https://localhost:8080/",
          "height": 34
        }
      },
      "source": [
        "%pylab inline\n",
        "from fastai.vision import *\n",
        "from pathlib import Path\n",
        "import pandas as pd\n",
        "import torch"
      ],
      "execution_count": 0,
      "outputs": [
        {
          "output_type": "stream",
          "text": [
            "Populating the interactive namespace from numpy and matplotlib\n"
          ],
          "name": "stdout"
        }
      ]
    },
    {
      "cell_type": "code",
      "metadata": {
        "id": "9dfyCbHEEs5L",
        "colab_type": "code",
        "colab": {}
      },
      "source": [
        "path=Path('/content/drive/My Drive/Colab Notebooks/bbc_train')"
      ],
      "execution_count": 0,
      "outputs": []
    },
    {
      "cell_type": "code",
      "metadata": {
        "id": "uGRv-PrPFBo8",
        "colab_type": "code",
        "outputId": "588c6892-7199-4a14-e918-93ce664167ce",
        "colab": {
          "base_uri": "https://localhost:8080/",
          "height": 118
        }
      },
      "source": [
        "path.ls()"
      ],
      "execution_count": 0,
      "outputs": [
        {
          "output_type": "execute_result",
          "data": {
            "text/plain": [
              "[PosixPath('/content/drive/My Drive/Colab Notebooks/bbc_train/images'),\n",
              " PosixPath('/content/drive/My Drive/Colab Notebooks/bbc_train/masks'),\n",
              " PosixPath('/content/drive/My Drive/Colab Notebooks/bbc_train/.DS_Store'),\n",
              " PosixPath('/content/drive/My Drive/Colab Notebooks/bbc_train/classification_labels.csv'),\n",
              " PosixPath('/content/drive/My Drive/Colab Notebooks/bbc_train/bboxes.json'),\n",
              " PosixPath('/content/drive/My Drive/Colab Notebooks/bbc_train/models')]"
            ]
          },
          "metadata": {
            "tags": []
          },
          "execution_count": 6
        }
      ]
    },
    {
      "cell_type": "code",
      "metadata": {
        "id": "wyBM-sk9J-sY",
        "colab_type": "code",
        "outputId": "3712254a-b7cd-4c7c-b6f5-715334e9d525",
        "colab": {
          "base_uri": "https://localhost:8080/",
          "height": 322
        }
      },
      "source": [
        "def get_y_fn(x): return path/'masks'/(x.stem + '.png')\n",
        "classes = array(['background', 'brick', 'ball', 'cylinder'])\n",
        "\n",
        "src = (SegmentationItemList.from_folder(path/'images')\n",
        "       .split_by_rand_pct(0.2)\n",
        "       .label_from_func(get_y_fn, classes=classes))\n",
        "\n",
        "#Don't normalize data here - assume normalization happens inside of Model. \n",
        "data = src.transform(get_transforms(), tfm_y=True, size=(256,256)).databunch(bs=32)\n",
        "data"
      ],
      "execution_count": 0,
      "outputs": [
        {
          "output_type": "stream",
          "text": [
            "ImageDataBunch;\n",
            "\n",
            "Train: LabelList (754 items)\n",
            "x: SegmentationItemList\n",
            "Image (3, 256, 256),Image (3, 256, 256),Image (3, 256, 256),Image (3, 256, 256),Image (3, 256, 256)\n",
            "y: SegmentationLabelList\n",
            "ImageSegment (1, 256, 256),ImageSegment (1, 256, 256),ImageSegment (1, 256, 256),ImageSegment (1, 256, 256),ImageSegment (1, 256, 256)\n",
            "Path: /content/drive/My Drive/Colab Notebooks/bbc_train/images;\n",
            "\n",
            "Valid: LabelList (188 items)\n",
            "x: SegmentationItemList\n",
            "Image (3, 256, 256),Image (3, 256, 256),Image (3, 256, 256),Image (3, 256, 256),Image (3, 256, 256)\n",
            "y: SegmentationLabelList\n",
            "ImageSegment (1, 256, 256),ImageSegment (1, 256, 256),ImageSegment (1, 256, 256),ImageSegment (1, 256, 256),ImageSegment (1, 256, 256)\n",
            "Path: /content/drive/My Drive/Colab Notebooks/bbc_train/images;\n",
            "\n",
            "Test: None\n"
          ],
          "name": "stdout"
        }
      ]
    },
    {
      "cell_type": "code",
      "metadata": {
        "id": "xOzO2RBYJ-hT",
        "colab_type": "code",
        "colab": {}
      },
      "source": [
        "def get_data(y):\n",
        "    class_labels=torch.tensor([np.unique(y[i][y[i]!=0])[0] for i in range(y.shape[0])])\n",
        "    bboxes=torch.zeros((y.shape[0], 4))\n",
        "    for i in range(y.shape[0]):\n",
        "      rows,cols= np.where(y[i, 0]!=0)\n",
        "      bboxes[i, :] = torch.tensor([rows.min(), cols.min(), rows.max(), cols.max()])\n",
        "    return class_labels, bboxes"
      ],
      "execution_count": 0,
      "outputs": []
    },
    {
      "cell_type": "code",
      "metadata": {
        "id": "yOsuw8AMTU8f",
        "colab_type": "code",
        "colab": {}
      },
      "source": [
        "def pixel_accuracy(yhat, y):\n",
        "    y_=y.squeeze(dim=1)\n",
        "    yhat_=yhat[2].argmax(dim=1)\n",
        "    return (y_==yhat_).sum().float()/y.numel()\n",
        "\n",
        "def my_accuracy(yhat, y):\n",
        "    class_labels=torch.tensor([np.unique(y[i][y[i]!=0])[0] for i in range(y.shape[0])])\n",
        "    class_labels = class_labels.to('cuda')\n",
        "    return accuracy(yhat[0], class_labels.view(-1))\n",
        "\n",
        "def my_l1(yhat, y):\n",
        "    bboxes=torch.zeros((y.shape[0], 4))\n",
        "    for i in range(y.shape[0]):\n",
        "      rows,cols= np.where(y[i, 0]!=0)\n",
        "      bboxes[i, :] = torch.tensor([rows.min(), cols.min(), rows.max(), cols.max()])\n",
        "    return nn.L1Loss()(yhat[1], bboxes.to('cuda'))"
      ],
      "execution_count": 0,
      "outputs": []
    },
    {
      "cell_type": "code",
      "metadata": {
        "id": "nRO9cPvQT0p9",
        "colab_type": "code",
        "colab": {}
      },
      "source": [
        "class MyLoss(nn.Module):\n",
        "  def forward(self, yhat, y):\n",
        "    class_labels=torch.tensor([np.unique(y[i][y[i]!=0])[0] for i in range(y.shape[0])])\n",
        "    bboxes=torch.zeros((y.shape[0], 4))\n",
        "    for i in range(y.shape[0]):\n",
        "      rows,cols= np.where(y[i, 0]!=0)\n",
        "      bboxes[i, :] = torch.tensor([rows.min(), cols.min(), rows.max(), cols.max()])\n",
        "    cls_loss=nn.CrossEntropyLoss()(yhat[0],class_labels.to('cuda'))\n",
        "    det_loss=nn.L1Loss()(yhat[1], bboxes.to('cuda'))\n",
        "    seg_loss = nn.CrossEntropyLoss()(yhat[2],y.squeeze(dim=1))\n",
        "    return det_loss + 10*cls_loss + seg_loss"
      ],
      "execution_count": 0,
      "outputs": []
    },
    {
      "cell_type": "code",
      "metadata": {
        "id": "wiDhpfn-HvrN",
        "colab_type": "code",
        "colab": {}
      },
      "source": [
        "def conv_trans(ni, nf, ks = 4, stride = 2, padding = 1):\n",
        "    return nn.Sequential(\n",
        "        nn.ConvTranspose2d(ni, nf, kernel_size=ks, bias=False, stride=stride, padding = padding), \n",
        "        nn.ReLU(inplace = True), \n",
        "        nn.BatchNorm2d(nf))\n",
        "\n",
        "\n",
        "class CustomHead(nn.Module):\n",
        "\n",
        "  def __init__(self):\n",
        "\n",
        "    super().__init__()\n",
        "    \n",
        "    self.clf = nn.Sequential(\n",
        "    AdaptiveConcatPool2d((4,4)),\n",
        "    Flatten(),\n",
        "    nn.ReLU(),\n",
        "    nn.Dropout(0.5),\n",
        "    nn.Linear(16384,256), #2*512*4*4\n",
        "    nn.ReLU(),\n",
        "    nn.BatchNorm1d(256),\n",
        "    nn.Dropout(0.5),\n",
        "    nn.Linear(256,4))\n",
        "\n",
        "    self.det = nn.Sequential(\n",
        "    AdaptiveConcatPool2d((4,4)),\n",
        "    Flatten(),\n",
        "    nn.ReLU(),\n",
        "    nn.Dropout(0.5),\n",
        "    nn.Linear(16384,256), #2*512*4*4\n",
        "    nn.ReLU(),\n",
        "    nn.BatchNorm1d(256),\n",
        "    nn.Dropout(0.5),\n",
        "    nn.Linear(256,4))\n",
        "    \n",
        "    self.seg = nn.Sequential(conv_trans(512, 256), \n",
        "                          conv_trans(256, 128),\n",
        "                          conv_trans(128, 64),\n",
        "                          conv_trans(64, 32), \n",
        "                          nn.ConvTranspose2d(32, 4, kernel_size=4, bias=False, stride=2, padding = 1))\n",
        "  \n",
        "  \n",
        "  \n",
        "  def forward(self, x):\n",
        "    return self.clf(x), self.det(x), self.seg(x)"
      ],
      "execution_count": 0,
      "outputs": []
    },
    {
      "cell_type": "code",
      "metadata": {
        "id": "1AMikRiiRm-V",
        "colab_type": "code",
        "colab": {}
      },
      "source": [
        "learn=cnn_learner(data, models.resnet34, custom_head=CustomHead(), loss_func=MyLoss(), metrics=[my_accuracy, my_l1, pixel_accuracy])"
      ],
      "execution_count": 0,
      "outputs": []
    },
    {
      "cell_type": "code",
      "metadata": {
        "id": "mmPVQBf4N1dd",
        "colab_type": "code",
        "colab": {}
      },
      "source": [
        "learn.freeze()"
      ],
      "execution_count": 0,
      "outputs": []
    },
    {
      "cell_type": "code",
      "metadata": {
        "id": "vcgTho2Fb-Z2",
        "colab_type": "code",
        "outputId": "429b89aa-320b-4a2c-cd21-a43c3ce530ec",
        "colab": {
          "base_uri": "https://localhost:8080/",
          "height": 34
        }
      },
      "source": [
        "learn.lr_find()"
      ],
      "execution_count": 0,
      "outputs": [
        {
          "output_type": "display_data",
          "data": {
            "text/html": [
              ""
            ],
            "text/plain": [
              "<IPython.core.display.HTML object>"
            ]
          },
          "metadata": {
            "tags": []
          }
        },
        {
          "output_type": "stream",
          "text": [
            "LR Finder is complete, type {learner_name}.recorder.plot() to see the graph.\n"
          ],
          "name": "stdout"
        }
      ]
    },
    {
      "cell_type": "code",
      "metadata": {
        "id": "03s2cJYnx7RM",
        "colab_type": "code",
        "outputId": "f06b51b4-cea7-4b65-ca89-5ef040e848c4",
        "colab": {
          "base_uri": "https://localhost:8080/",
          "height": 279
        }
      },
      "source": [
        "learn.recorder.plot()"
      ],
      "execution_count": 0,
      "outputs": [
        {
          "output_type": "display_data",
          "data": {
            "image/png": "[encoded data removed]",
            "text/plain": [
              "<Figure size 432x288 with 1 Axes>"
            ]
          },
          "metadata": {
            "tags": []
          }
        }
      ]
    },
    {
      "cell_type": "code",
      "metadata": {
        "id": "-mDlj8KNY9yQ",
        "colab_type": "code",
        "colab": {}
      },
      "source": [
        "lr=1e-1\n",
        "learn.fit_one_cycle(8, slice(lr/10, lr))"
      ],
      "execution_count": 0,
      "outputs": []
    },
    {
      "cell_type": "code",
      "metadata": {
        "id": "2PW3FrsPY9vL",
        "colab_type": "code",
        "colab": {}
      },
      "source": [
        "learn.unfreeze"
      ],
      "execution_count": 0,
      "outputs": []
    },
    {
      "cell_type": "code",
      "metadata": {
        "id": "V-zkywOZY9pn",
        "colab_type": "code",
        "colab": {}
      },
      "source": [
        "learn.lr_find()"
      ],
      "execution_count": 0,
      "outputs": []
    },
    {
      "cell_type": "code",
      "metadata": {
        "id": "KMR85UhBydTU",
        "colab_type": "code",
        "outputId": "9e59c8ca-86f7-4554-a21b-6b7e245da8f9",
        "colab": {
          "base_uri": "https://localhost:8080/",
          "height": 279
        }
      },
      "source": [
        "learn.recorder.plot()"
      ],
      "execution_count": 0,
      "outputs": [
        {
          "output_type": "display_data",
          "data": {
            "image/png": "[encoded data removed]",
            "text/plain": [
              "<Figure size 432x288 with 1 Axes>"
            ]
          },
          "metadata": {
            "tags": []
          }
        }
      ]
    },
    {
      "cell_type": "code",
      "metadata": {
        "id": "JjEFf0mqyhYd",
        "colab_type": "code",
        "outputId": "32ad8b98-fe34-47fa-ff6a-badc08724b0d",
        "colab": {
          "base_uri": "https://localhost:8080/",
          "height": 284
        }
      },
      "source": [
        "lr = 1e-01\n",
        "learn.fit_one_cycle(8, slice(lr/10, lr))"
      ],
      "execution_count": 0,
      "outputs": [
        {
          "output_type": "display_data",
          "data": {
            "text/html": [
              "<table border=\"1\" class=\"dataframe\">\n",
              "  <thead>\n",
              "    <tr style=\"text-align: left;\">\n",
              "      <th>epoch</th>\n",
              "      <th>train_loss</th>\n",
              "      <th>valid_loss</th>\n",
              "      <th>my_accuracy</th>\n",
              "      <th>my_l1</th>\n",
              "      <th>pixel_accuracy</th>\n",
              "      <th>time</th>\n",
              "    </tr>\n",
              "  </thead>\n",
              "  <tbody>\n",
              "    <tr>\n",
              "      <td>0</td>\n",
              "      <td>126.607056</td>\n",
              "      <td>#na#</td>\n",
              "      <td>00:19</td>\n",
              "    </tr>\n",
              "    <tr>\n",
              "      <td>1</td>\n",
              "      <td>68.419739</td>\n",
              "      <td>#na#</td>\n",
              "      <td>00:18</td>\n",
              "    </tr>\n",
              "    <tr>\n",
              "      <td>2</td>\n",
              "      <td>44.047886</td>\n",
              "      <td>#na#</td>\n",
              "      <td>00:18</td>\n",
              "    </tr>\n",
              "    <tr>\n",
              "      <td>3</td>\n",
              "      <td>31.656744</td>\n",
              "      <td>#na#</td>\n",
              "      <td>00:18</td>\n",
              "    </tr>\n",
              "    <tr>\n",
              "      <td>4</td>\n",
              "      <td>25.063446</td>\n",
              "      <td>#na#</td>\n",
              "      <td>00:18</td>\n",
              "    </tr>\n",
              "    <tr>\n",
              "      <td>5</td>\n",
              "      <td>20.850626</td>\n",
              "      <td>#na#</td>\n",
              "      <td>00:19</td>\n",
              "    </tr>\n",
              "    <tr>\n",
              "      <td>6</td>\n",
              "      <td>17.406548</td>\n",
              "      <td>#na#</td>\n",
              "      <td>00:18</td>\n",
              "    </tr>\n",
              "    <tr>\n",
              "      <td>7</td>\n",
              "      <td>15.443566</td>\n",
              "      <td>#na#</td>\n",
              "      <td>00:18</td>\n",
              "    </tr>\n",
              "  </tbody>\n",
              "</table>"
            ],
            "text/plain": [
              "<IPython.core.display.HTML object>"
            ]
          },
          "metadata": {
            "tags": []
          }
        }
      ]
    },
    {
      "cell_type": "code",
      "metadata": {
        "id": "Gcz0V6Gmy2EY",
        "colab_type": "code",
        "colab": {}
      },
      "source": [
        "learn.save('deep_learning_model')"
      ],
      "execution_count": 0,
      "outputs": []
    },
    {
      "cell_type": "code",
      "metadata": {
        "id": "Kmc_0cb2y3lo",
        "colab_type": "code",
        "colab": {}
      },
      "source": [
        "learn.export('export.pkl')"
      ],
      "execution_count": 0,
      "outputs": []
    },
    {
      "cell_type": "code",
      "metadata": {
        "id": "UQDNwxoybLmT",
        "colab_type": "code",
        "colab": {}
      },
      "source": [
        ""
      ],
      "execution_count": 0,
      "outputs": []
    }
  ]
}